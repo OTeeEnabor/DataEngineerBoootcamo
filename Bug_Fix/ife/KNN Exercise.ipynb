{
 "cells": [
  {
   "cell_type": "code",
   "execution_count": 1,
   "id": "e05fb409",
   "metadata": {},
   "outputs": [],
   "source": [
    "import pandas as pd\n",
    "import numpy as np\n",
    "from scipy import stats\n",
    "import seaborn as sns\n"
   ]
  },
  {
   "cell_type": "code",
   "execution_count": 18,
   "id": "11e83e5f",
   "metadata": {
    "scrolled": false
   },
   "outputs": [
    {
     "name": "stdout",
     "output_type": "stream",
     "text": [
      "3.488853679935574\n",
      "8.077747210701757\n",
      "1.967811284142865\n",
      "1.999049774267764\n",
      "3.4828149534535986\n",
      "9.11372591205156\n",
      "9.414351963358923\n",
      "1.9633000000000003\n",
      "3.3027564245641843\n",
      "5.502045074333725\n"
     ]
    },
    {
     "data": {
      "text/plain": [
       "1"
      ]
     },
     "execution_count": 18,
     "metadata": {},
     "output_type": "execute_result"
    }
   ],
   "source": [
    "import pandas as pd\n",
    "import numpy as np\n",
    "from scipy import stats\n",
    "dataTempHum = pd.read_csv(\"Temp_hum_data2.txt\")\n",
    "dataTempHum.head()\n",
    "def occupancy_using_top_5_nearest_point(x, y, data):\n",
    "    #\n",
    "    data[\"dist\"] = data.apply(lambda r: (print(((x-r['Temperature'])**2 + (y-r['Humidity'])**2)** 0.5)), axis=1)\n",
    "    data.sort_values(\"dist\", inplace=True)\n",
    "    result = stats.mode(data[data.columns[2]][:5])\n",
    "    return (result.mode[0])\n",
    "\n",
    "occupancy_using_top_5_nearest_point(20, 18, dataTempHum)\n"
   ]
  },
  {
   "cell_type": "code",
   "execution_count": null,
   "id": "a075ed4e",
   "metadata": {},
   "outputs": [],
   "source": []
  },
  {
   "cell_type": "code",
   "execution_count": 30,
   "id": "ee47eae5",
   "metadata": {
    "scrolled": true
   },
   "outputs": [],
   "source": [
    "# display(Temp_hum_data)\n",
    "\n",
    "# # Temp_hum_data[\"dist\"] = np.nan \n",
    "# Temp_hum_data[\"dist\"] = Temp_hum_data.apply((((20-Temp_hum_data[Temp_hum_data.columns[0]])**2 + (18-Temp_hum_data[Temp_hum_data.columns[1]])**2)** 0.5), axis=1)\n",
    "\n",
    "# display(Temp_hum_data)"
   ]
  },
  {
   "cell_type": "code",
   "execution_count": 10,
   "id": "9876a410",
   "metadata": {},
   "outputs": [],
   "source": [
    "# Temp_hum_data[\"dist\"] = Temp_hum_data.apply(lambda r: (((20-Temp_hum_data[Temp_hum_data.columns[0]])**2 + (18-Temp_hum_data[Temp_hum_data.columns[1]])**2)** 0.5))"
   ]
  },
  {
   "cell_type": "code",
   "execution_count": 89,
   "id": "bb0da75f",
   "metadata": {},
   "outputs": [],
   "source": [
    "# Temp_hum_data\n",
    "# Temp_hum_data.apply((((20-Temp_hum_data.iloc[:, 1])**2 + (19 - Temp_hum_data.iloc[:, 1]**2))** 0.5))\n",
    "# Temp_hum_data                                            "
   ]
  },
  {
   "cell_type": "code",
   "execution_count": null,
   "id": "a87ea972",
   "metadata": {},
   "outputs": [],
   "source": [
    "# (((20-Temp_hum_data[\"Temperature\"])**2 + (18-Temp_hum_data[.iloc[:, 1]]**2))** 0.5)"
   ]
  },
  {
   "cell_type": "code",
   "execution_count": 90,
   "id": "b4236e4f",
   "metadata": {},
   "outputs": [],
   "source": [
    "# Temp_hum_data"
   ]
  },
  {
   "cell_type": "code",
   "execution_count": 91,
   "id": "967020e6",
   "metadata": {
    "scrolled": true
   },
   "outputs": [],
   "source": [
    "#  Temp_hum_data.iloc[:, 1]"
   ]
  },
  {
   "cell_type": "code",
   "execution_count": 92,
   "id": "67332e6e",
   "metadata": {
    "scrolled": true
   },
   "outputs": [],
   "source": [
    "# np.mean(Temp_hum_data[\"dist\"][:5])"
   ]
  },
  {
   "cell_type": "code",
   "execution_count": null,
   "id": "cba45ba1",
   "metadata": {},
   "outputs": [],
   "source": [
    "# # Create a function that finds the top 5 nearest datapoints for a\n",
    "# # given datapoint with features(temperature and humidity) and uses them\n",
    "# # to estimate the occupancy value.?\n",
    "\n",
    "# import pandas as pd\n",
    "# import numpy as np\n",
    "# import os\n",
    "\n",
    "# path_to_raw_file = \"Temp_hum_data.txt\"\n",
    "\n",
    "\n",
    "# # check if datafile exists before processing\n",
    "# def process_data(path_to_raw_file):\n",
    "#     if not os.path.exists(path_to_raw_file):\n",
    "#         raise FileNotFoundError(\"Datafile missing in specified path\")\n",
    "#     else:\n",
    "#         try:\n",
    "#             with open(path_to_raw_file, \"r\") as f:\n",
    "#                 data = f.read()\n",
    "\n",
    "#             rawdata = data.split(\"\\n\")\n",
    "#             colnames = rawdata[0].split(\"\\t\")\n",
    "#             datapoints = rawdata[1:]\n",
    "\n",
    "#             # format for processing with proper names\n",
    "#             datarows = []\n",
    "#             for f in range(len(datapoints)):\n",
    "#                 datarows.append(datapoints[f].split(\" \"))\n",
    "#             return pd.DataFrame(datarows, columns=colnames, dtype=float)\n",
    "\n",
    "#         except Exception as e:\n",
    "#             print(f\"Datafile not processed! \\n{e}\")\n",
    "\n",
    "\n",
    "\n",
    "# def compute_euclid_dist(arr1, arr2):\n",
    "#     \"\"\"\n",
    "#     computes eucledian distances.\n",
    "#     Args:\n",
    "#         arr1 (np.array): array to provide x-values.\n",
    "#         arr2 (np.array): array to provide y-values.\n",
    "#     Returns:\n",
    "#         distances (list): eucledian distances.\n",
    "#     \"\"\"\n",
    "#     if (len(arr1)==0 or len(arr2)==0):\n",
    "#         raise ValueError(\"At least one array is empty\")\n",
    "#     else:\n",
    "#         try:\n",
    "#             tot = np.sum((arr1 - arr2)**2, axis=0)\n",
    "#             return np.sqrt(tot)\n",
    "#         except Exception as e:\n",
    "#             print(f\"Unexpected error occured: \\n{e}\")\n",
    "\n",
    "\n",
    "# def knn_algo(new_datapt, df, n_neighbors=5):\n",
    "#     \"\"\"Get the 5 nearest points to the new data point.\n",
    "#     Args\n",
    "#     ----\n",
    "#         new_datapt (tupple):  a datapoint for which to find the top5 neighbors\n",
    "#         dataframe (df): a pandas processed dataframe\n",
    "#         n_neighbors (int): optional, the number of nearest neighbors\n",
    "#     Returns\n",
    "#     -------\n",
    "#         None\n",
    "#     \"\"\"\n",
    "#     tmp = df[\"Temperature\"].values\n",
    "#     hum = df[\"Humidity\"].values\n",
    "#     dtypes = [float, int]\n",
    "\n",
    "#     # The datapoint should be of length 2. check before proceeding\n",
    "#     if type(new_datapt) not in [list, tuple] or len(new_datapt)!=2:\n",
    "#         raise ValueError(\"New datapoint can only be a list/tuple of lenght 2\")\n",
    "\n",
    "#     # check for dtypes before proceeding\n",
    "#     if type(new_datapt[0]) in dtypes and type(new_datapt[0]) in dtypes:\n",
    "\n",
    "#         d = compute_euclid_dist(np.array([tmp, hum]),  np.array(new_datapt))\n",
    "\n",
    "#         indices = np.argsort(d)\n",
    "#         top5_indices = indices[:n_neighbors]\n",
    "\n",
    "#         return df.iloc[top5_indices, 0:2]\n",
    "#     else:\n",
    "#         raise TypeError(\"Mixed datatypes in new_datapoint.\")\n",
    "\n",
    "\n",
    "# #-------------------------------------------------\n",
    "\n",
    "# df = process_data(path_to_raw_file)\n",
    "# print(knn_algo((9,3), df))"
   ]
  },
  {
   "cell_type": "code",
   "execution_count": null,
   "id": "c53c1ada",
   "metadata": {},
   "outputs": [],
   "source": []
  }
 ],
 "metadata": {
  "kernelspec": {
   "display_name": "Python 3",
   "language": "python",
   "name": "python3"
  },
  "language_info": {
   "codemirror_mode": {
    "name": "ipython",
    "version": 3
   },
   "file_extension": ".py",
   "mimetype": "text/x-python",
   "name": "python",
   "nbconvert_exporter": "python",
   "pygments_lexer": "ipython3",
   "version": "3.8.8"
  }
 },
 "nbformat": 4,
 "nbformat_minor": 5
}
